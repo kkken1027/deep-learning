{
 "cells": [
  {
   "cell_type": "code",
   "execution_count": 37,
   "metadata": {},
   "outputs": [],
   "source": [
    "#import 相關函式\n",
    "import keras\n",
    "from keras.datasets import mnist\n",
    "from keras.models import Sequential\n",
    "from keras.layers import Dense, Dropout, LeakyReLU, Conv2D, Flatten\n",
    "from keras.utils import np_utils\n",
    "from keras.optimizers import RMSprop\n",
    "from keras.backend.tensorflow_backend import set_session \n",
    "from keras import backend as K\n",
    "K.tensorflow_backend._get_available_gpus()\n",
    "from matplotlib.pyplot import imshow\n",
    "import numpy as np\n",
    "import tensorflow as tf \n",
    "import matplotlib.pyplot as plt\n",
    "%matplotlib inline\n",
    "#設定CPU使用量\n",
    "config = tf.ConfigProto() \n",
    "config.gpu_options.per_process_gpu_memory_fraction = 0.9\n",
    "set_session(tf.Session(config=config))"
   ]
  },
  {
   "cell_type": "code",
   "execution_count": 38,
   "metadata": {},
   "outputs": [],
   "source": [
    "#Loss 紀錄函式 提供繪製 acc-loss 圖\n",
    "class LossHistory(keras.callbacks.Callback):\n",
    "    def on_train_begin(self, logs={}):\n",
    "        self.losses = {'batch':[], 'epoch':[]}\n",
    "        self.accuracy = {'batch':[], 'epoch':[]}\n",
    "        self.val_loss = {'batch':[], 'epoch':[]}\n",
    "        self.val_acc = {'batch':[], 'epoch':[]}\n",
    "\n",
    "    def on_batch_end(self, batch, logs={}):\n",
    "        self.losses['batch'].append(logs.get('loss'))\n",
    "        self.accuracy['batch'].append(logs.get('acc'))\n",
    "        self.val_loss['batch'].append(logs.get('val_loss'))\n",
    "        self.val_acc['batch'].append(logs.get('val_acc'))\n",
    "\n",
    "    def on_epoch_end(self, batch, logs={}):\n",
    "        self.losses['epoch'].append(logs.get('loss'))\n",
    "        self.accuracy['epoch'].append(logs.get('acc'))\n",
    "        self.val_loss['epoch'].append(logs.get('val_loss'))\n",
    "        self.val_acc['epoch'].append(logs.get('val_acc'))\n",
    "\n",
    "    def loss_plot(self, loss_type):\n",
    "        iters = range(len(self.losses[loss_type]))\n",
    "        plt.figure()\n",
    "        # acc\n",
    "        plt.plot(iters, self.accuracy[loss_type], 'r', label='train acc')\n",
    "        # loss\n",
    "        plt.plot(iters, self.losses[loss_type], 'g', label='train loss')\n",
    "        if loss_type == 'epoch':\n",
    "            # val_acc\n",
    "            plt.plot(iters, self.val_acc[loss_type], 'b', label='val acc')\n",
    "            # val_loss\n",
    "            plt.plot(iters, self.val_loss[loss_type], 'k', label='val loss')\n",
    "        plt.grid(True)\n",
    "        plt.xlabel(loss_type)\n",
    "        plt.ylabel('acc-loss')\n",
    "        plt.legend(loc=\"upper right\")\n",
    "        plt.show()"
   ]
  },
  {
   "cell_type": "code",
   "execution_count": 50,
   "metadata": {},
   "outputs": [
    {
     "name": "stdout",
     "output_type": "stream",
     "text": [
      "shape of train data   [ 60000 28 28 ]\n",
      "shape of test  data   [ 10000 28 28 ]\n",
      "reshape of train data [ 60000 28 28 1 ]\n",
      "reshape of test  data [ 10000 28 28 1 ]\n",
      "\n",
      "To Categorical [ 7 ] =>  [0. 0. 0. 0. 0. 0. 0. 1. 0. 0.]\n"
     ]
    }
   ],
   "source": [
    "# 抓 mnist 資料,資料轉換對應的維度\n",
    "(x_train, y_train), (x_test_org, y_test_org) = mnist.load_data()\n",
    "\n",
    "print('shape of train data   [', x_train.shape[0], x_train.shape[1], x_train.shape[2],\"]\")\n",
    "print('shape of test  data   [', x_test_org.shape[0], x_test_org.shape[1], x_test_org.shape[2],\"]\")\n",
    "x_train=x_train.reshape(60000,28,28,1).astype('float32')\n",
    "x_test=x_test_org.reshape(10000,28,28,1).astype('float32')  \n",
    "x_train /= 255\n",
    "x_test /= 255\n",
    "print('reshape of train data [', x_train.shape[0], x_train.shape[1], x_train.shape[2], x_train.shape[3],\"]\")\n",
    "print('reshape of test  data [', x_test.shape[0], x_test.shape[1], x_test.shape[2], x_test.shape[3], \"]\")\n",
    "y_train=np_utils.to_categorical(y_train)\n",
    "y_test=np_utils.to_categorical(y_test_org)\n",
    "print()\n",
    "print(\"To Categorical [\", y_test_org[0], \"] => \", y_test[0])\n",
    "\n",
    "history = LossHistory()"
   ]
  },
  {
   "cell_type": "code",
   "execution_count": 51,
   "metadata": {},
   "outputs": [
    {
     "name": "stdout",
     "output_type": "stream",
     "text": [
      "_________________________________________________________________\n",
      "Layer (type)                 Output Shape              Param #   \n",
      "=================================================================\n",
      "conv2d_14 (Conv2D)           (None, 24, 24, 5)         130       \n",
      "_________________________________________________________________\n",
      "max_pooling2d_13 (MaxPooling (None, 12, 12, 5)         0         \n",
      "_________________________________________________________________\n",
      "flatten_13 (Flatten)         (None, 720)               0         \n",
      "_________________________________________________________________\n",
      "dense_19 (Dense)             (None, 196)               141316    \n",
      "_________________________________________________________________\n",
      "dense_20 (Dense)             (None, 10)                1970      \n",
      "=================================================================\n",
      "Total params: 143,416\n",
      "Trainable params: 143,416\n",
      "Non-trainable params: 0\n",
      "_________________________________________________________________\n"
     ]
    }
   ],
   "source": [
    "# CNN模型建置\n",
    "model = Sequential()\n",
    "model.add(Conv2D(5, kernel_size=(5, 5), activation='relu', input_shape=(28,28,1)))\n",
    "model.add(MaxPooling2D(pool_size=(2, 2)))\n",
    "model.add(Flatten())\n",
    "model.add(Dense(196, activation='relu'))\n",
    "model.add(Dense(10, activation='softmax'))\n",
    "model.summary()\n",
    "\n",
    "\"\"\"\n",
    "model = Sequential()  \n",
    "# Create CN layer 1  \n",
    "model.add(Conv2D(filters=16,  \n",
    "                 kernel_size=(5,5),  \n",
    "                 padding='same',  \n",
    "                 input_shape=(28,28,1),  \n",
    "                 activation='relu'))  \n",
    "# Create Max-Pool 1  \n",
    "model.add(MaxPooling2D(pool_size=(2,2)))  \n",
    "  \n",
    "# Create CN layer 2  \n",
    "model.add(Conv2D(filters=36,  \n",
    "                 kernel_size=(5,5),  \n",
    "                 padding='same',  \n",
    "                 input_shape=(28,28,1),  \n",
    "                 activation='relu'))  \n",
    "  \n",
    "# Create Max-Pool 2  \n",
    "model.add(MaxPooling2D(pool_size=(2,2)))  \n",
    "  \n",
    "# Add Dropout layer  \n",
    "model.add(Dropout(0.25))  \n",
    "model.add(Flatten()) \n",
    "model.add(Dense(128, activation='relu'))  \n",
    "model.add(Dropout(0.5))  \n",
    "model.add(Dense(10, activation='softmax'))  \n",
    "model.summary()  \n",
    "\"\"\"\n",
    "model.compile(loss='categorical_crossentropy',\n",
    "              optimizer='rmsprop',\n",
    "              metrics=['accuracy'])"
   ]
  },
  {
   "cell_type": "code",
   "execution_count": 52,
   "metadata": {},
   "outputs": [
    {
     "name": "stdout",
     "output_type": "stream",
     "text": [
      "Train on 60000 samples, validate on 10000 samples\n",
      "Epoch 1/10\n",
      "60000/60000 [==============================] - 6s 102us/step - loss: 0.2885 - acc: 0.9129 - val_loss: 0.1386 - val_acc: 0.9569\n",
      "Epoch 2/10\n",
      "60000/60000 [==============================] - 6s 97us/step - loss: 0.0988 - acc: 0.9699 - val_loss: 0.0733 - val_acc: 0.9765\n",
      "Epoch 3/10\n",
      "60000/60000 [==============================] - 6s 97us/step - loss: 0.0631 - acc: 0.9810 - val_loss: 0.0575 - val_acc: 0.9808\n",
      "Epoch 4/10\n",
      "60000/60000 [==============================] - 6s 97us/step - loss: 0.0467 - acc: 0.9857 - val_loss: 0.0553 - val_acc: 0.9824\n",
      "Epoch 5/10\n",
      "60000/60000 [==============================] - 6s 97us/step - loss: 0.0359 - acc: 0.9893 - val_loss: 0.0474 - val_acc: 0.9847\n",
      "Epoch 6/10\n",
      "60000/60000 [==============================] - 6s 97us/step - loss: 0.0292 - acc: 0.9908 - val_loss: 0.0443 - val_acc: 0.9852\n",
      "Epoch 7/10\n",
      "60000/60000 [==============================] - 6s 97us/step - loss: 0.0245 - acc: 0.9926 - val_loss: 0.0455 - val_acc: 0.9858\n",
      "Epoch 8/10\n",
      "60000/60000 [==============================] - 6s 97us/step - loss: 0.0189 - acc: 0.9942 - val_loss: 0.0499 - val_acc: 0.9857\n",
      "Epoch 9/10\n",
      "60000/60000 [==============================] - 6s 97us/step - loss: 0.0160 - acc: 0.9951 - val_loss: 0.0481 - val_acc: 0.9859\n",
      "Epoch 10/10\n",
      "60000/60000 [==============================] - 6s 97us/step - loss: 0.0129 - acc: 0.9960 - val_loss: 0.0452 - val_acc: 0.9871\n"
     ]
    }
   ],
   "source": [
    "# 開始訓練\n",
    "train_history = model.fit(x_train, y_train,\n",
    "            batch_size=128,\n",
    "            epochs=10,\n",
    "            verbose=1,\n",
    "            validation_data=(x_test, y_test),\n",
    "            callbacks=[history])"
   ]
  },
  {
   "cell_type": "code",
   "execution_count": 53,
   "metadata": {},
   "outputs": [
    {
     "name": "stdout",
     "output_type": "stream",
     "text": [
      "10000/10000 [==============================] - 1s 65us/step\n",
      "[Info] Accuracy of testing data = 96.1%\n",
      "\n",
      "Test score: 0.04520959296999608\n",
      "Test accuracy: 0.9871\n"
     ]
    },
    {
     "data": {
      "image/png": "[encoded data removed]",
      "text/plain": [
       "<Figure size 432x288 with 1 Axes>"
      ]
     },
     "metadata": {
      "needs_background": "light"
     },
     "output_type": "display_data"
    }
   ],
   "source": [
    "# 模型评估\n",
    "score = model.evaluate(x_test, y_test, verbose=1)\n",
    "print(\"[Info] Accuracy of testing data = {:2.1f}%\".format(scores[1]*100.0))  \n",
    "print()\n",
    "print('Test score:', score[0])\n",
    "print('Test accuracy:', score[1])\n",
    "\n",
    "# 繪製 acc-loss 曲线\n",
    "history.loss_plot('epoch')"
   ]
  },
  {
   "cell_type": "code",
   "execution_count": 54,
   "metadata": {},
   "outputs": [
    {
     "data": {
      "image/png": "[encoded data removed]",
      "text/plain": [
       "<Figure size 432x288 with 1 Axes>"
      ]
     },
     "metadata": {
      "needs_background": "light"
     },
     "output_type": "display_data"
    },
    {
     "data": {
      "image/png": "[encoded data removed]",
      "text/plain": [
       "<Figure size 432x288 with 1 Axes>"
      ]
     },
     "metadata": {
      "needs_background": "light"
     },
     "output_type": "display_data"
    }
   ],
   "source": [
    "# 個別繪製 acc and loss 曲线\n",
    "from utils import *  \n",
    "if isDisplayAvl():  \n",
    "    show_train_history(train_history, 'acc', 'val_acc')  \n",
    "    show_train_history(train_history, 'loss', 'val_loss')  "
   ]
  },
  {
   "cell_type": "code",
   "execution_count": 55,
   "metadata": {},
   "outputs": [
    {
     "name": "stdout",
     "output_type": "stream",
     "text": [
      "[5 9 8 7 2 3 0 2 4 2]\n",
      "\n"
     ]
    },
    {
     "data": {
      "image/png": "[encoded data removed]",
      "text/plain": [
       "<Figure size 864x1008 with 10 Axes>"
      ]
     },
     "metadata": {},
     "output_type": "display_data"
    },
    {
     "name": "stdout",
     "output_type": "stream",
     "text": [
      "[Info] Display Confusion Matrix:\n",
      "predict    0     1     2    3    4    5    6     7    8    9\n",
      "label                                                       \n",
      "0        972     0     0    0    0    1    3     1    3    0\n",
      "1          0  1130     1    0    0    1    1     0    2    0\n",
      "2          1     2  1022    0    2    0    1     2    2    0\n",
      "3          0     0     3  999    0    5    0     2    1    0\n",
      "4          0     1     2    0  974    0    0     0    0    5\n",
      "5          2     0     0    5    0  884    1     0    0    0\n",
      "6          2     3     1    0    3    3  945     0    1    0\n",
      "7          1     5    10    1    0    0    0  1007    2    2\n",
      "8          4     0     3    2    0    2    2     2  958    1\n",
      "9          0     2     0    4   10    4    0     6    3  980\n",
      "\n"
     ]
    }
   ],
   "source": [
    "# 模型评估 數據比對\n",
    "prediction = model.predict_classes(x_test)  # Making prediction and save result to prediction  \n",
    "print(\"%s\\n\" % (prediction[240:250]))  \n",
    "if isDisplayAvl():  \n",
    "    plot_images_labels_predict(x_test_org, y_test_org, prediction, idx=240) \n",
    "    \n",
    "# 模型评估 數據分布統計  \n",
    "import pandas as pd  \n",
    "print(\"[Info] Display Confusion Matrix:\")  \n",
    "print(\"%s\\n\" % pd.crosstab(y_test_org, prediction, rownames=['label'], colnames=['predict']))  "
   ]
  },
  {
   "cell_type": "code",
   "execution_count": null,
   "metadata": {},
   "outputs": [],
   "source": []
  }
 ],
 "metadata": {
  "kernelspec": {
   "display_name": "Python 3",
   "language": "python",
   "name": "python3"
  },
  "language_info": {
   "codemirror_mode": {
    "name": "ipython",
    "version": 3
   },
   "file_extension": ".py",
   "mimetype": "text/x-python",
   "name": "python",
   "nbconvert_exporter": "python",
   "pygments_lexer": "ipython3",
   "version": "3.5.2"
  }
 },
 "nbformat": 4,
 "nbformat_minor": 2
}
