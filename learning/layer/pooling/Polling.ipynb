{
 "cells": [
  {
   "cell_type": "code",
   "execution_count": 18,
   "metadata": {},
   "outputs": [
    {
     "name": "stdout",
     "output_type": "stream",
     "text": [
      "[[ 1  2  3  4]\n",
      " [ 5  6  7  8]\n",
      " [ 9 10 11 12]\n",
      " [13 14 15 16]]\n",
      "\n",
      "Max Pooling :\n",
      "[[ 6.  8.]\n",
      " [14. 16.]]\n",
      "\n",
      "Average Pooling :\n",
      "[[ 3.5  5.5]\n",
      " [11.5 13.5]]\n"
     ]
    }
   ],
   "source": [
    "import numpy as np\n",
    "\n",
    "def pooling(inputMap,poolSize=3,poolStride=2,mode='max'):\n",
    "    \"\"\"INPUTS:\n",
    "              inputMap - input array of the pooling layer\n",
    "              poolSize - X-size(equivalent to Y-size) of receptive field\n",
    "              poolStride - the stride size between successive pooling squares\n",
    "       \n",
    "       OUTPUTS:\n",
    "               outputMap - output array of the pooling layer\n",
    "               \n",
    "       Padding mode - 'edge'\n",
    "    \"\"\"\n",
    "    # inputMap sizes\n",
    "    in_row,in_col = np.shape(inputMap)\n",
    "    \n",
    "    # outputMap sizes\n",
    "    out_row,out_col = int(np.floor(in_row/poolStride)),int(np.floor(in_col/poolStride))\n",
    "    row_remainder,col_remainder = np.mod(in_row,poolStride),np.mod(in_col,poolStride)\n",
    "    if row_remainder != 0:\n",
    "        out_row +=1\n",
    "    if col_remainder != 0:\n",
    "        out_col +=1\n",
    "    outputMap = np.zeros((out_row,out_col))\n",
    "    \n",
    "    # padding\n",
    "    temp_map = np.lib.pad(inputMap, ((0,poolSize-row_remainder),(0,poolSize-col_remainder)), 'edge')\n",
    "    \n",
    "    if mode =='max':\n",
    "        # max pooling\n",
    "        for r_idx in range(0,out_row):\n",
    "            for c_idx in range(0,out_col):\n",
    "                startX = c_idx * poolStride\n",
    "                startY = r_idx * poolStride\n",
    "                poolField = temp_map[startY:startY + poolSize, startX:startX + poolSize]\n",
    "                poolOut = np.max(poolField)\n",
    "                outputMap[r_idx,c_idx] = poolOut\n",
    "    elif mode =='avg':\n",
    "        # average pooling\n",
    "        for r_idx in range(0,out_row):\n",
    "            for c_idx in range(0,out_col):\n",
    "                startX = c_idx * poolStride\n",
    "                startY = r_idx * poolStride\n",
    "                poolField = temp_map[startY:startY + poolSize, startX:startX + poolSize]\n",
    "                poolOut = np.average(poolField)\n",
    "                outputMap[r_idx,c_idx] = poolOut\n",
    "                \n",
    "    # retrun outputMap\n",
    "    return  outputMap\n",
    "# 测试实例\n",
    "\n",
    "test = np.array([[1,2,3,4],[5,6,7,8],[9,10,11,12],[13,14,15,16]])\n",
    "print(test)\n",
    "print(\"\\nMax Pooling :\")\n",
    "test_result = pooling(test, 2, 2, 'max')\n",
    "print(test_result)\n",
    "print(\"\\nAverage Pooling :\")\n",
    "test_result = pooling(test, 2, 2, 'avg')\n",
    "print(test_result)\n"
   ]
  },
  {
   "cell_type": "code",
   "execution_count": null,
   "metadata": {},
   "outputs": [],
   "source": []
  }
 ],
 "metadata": {
  "kernelspec": {
   "display_name": "Python 3",
   "language": "python",
   "name": "python3"
  },
  "language_info": {
   "codemirror_mode": {
    "name": "ipython",
    "version": 3
   },
   "file_extension": ".py",
   "mimetype": "text/x-python",
   "name": "python",
   "nbconvert_exporter": "python",
   "pygments_lexer": "ipython3",
   "version": "3.5.2"
  }
 },
 "nbformat": 4,
 "nbformat_minor": 2
}
