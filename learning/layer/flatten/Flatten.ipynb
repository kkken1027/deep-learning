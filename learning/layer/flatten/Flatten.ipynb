{
 "cells": [
  {
   "cell_type": "code",
   "execution_count": 1,
   "metadata": {},
   "outputs": [
    {
     "name": "stderr",
     "output_type": "stream",
     "text": [
      "Using TensorFlow backend.\n"
     ]
    },
    {
     "name": "stdout",
     "output_type": "stream",
     "text": [
      "(None, 32, 32, 64)\n",
      "(None, 65536)\n",
      "(None, 32)\n"
     ]
    }
   ],
   "source": [
    "import keras\n",
    "from keras.models import Sequential\n",
    "from keras.layers import Dense, Dropout, LeakyReLU, Conv2D, Flatten\n",
    "\n",
    "model = Sequential()\n",
    "\n",
    "model.add(Conv2D(filters=64,  \n",
    "                 kernel_size=(3,3),  \n",
    "                 padding='same',  \n",
    "                 input_shape=(32, 32, 3)))  \n",
    "print(model.output_shape)\n",
    "# now: model.output_shape == (None, 32, 32, 64)\n",
    "\n",
    "model.add(Flatten())\n",
    "print(model.output_shape)\n",
    "# now: model.output_shape == (None, 65536)\n",
    "\n",
    "model.add(Dense(32))\n",
    "print(model.output_shape)\n",
    "# now: model.output_shape == (None, 32)"
   ]
  },
  {
   "cell_type": "code",
   "execution_count": null,
   "metadata": {},
   "outputs": [],
   "source": []
  }
 ],
 "metadata": {
  "kernelspec": {
   "display_name": "Python 3",
   "language": "python",
   "name": "python3"
  },
  "language_info": {
   "codemirror_mode": {
    "name": "ipython",
    "version": 3
   },
   "file_extension": ".py",
   "mimetype": "text/x-python",
   "name": "python",
   "nbconvert_exporter": "python",
   "pygments_lexer": "ipython3",
   "version": "3.5.2"
  }
 },
 "nbformat": 4,
 "nbformat_minor": 2
}
