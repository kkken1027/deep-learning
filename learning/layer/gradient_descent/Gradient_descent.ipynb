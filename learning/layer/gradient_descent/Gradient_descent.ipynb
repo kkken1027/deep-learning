{
 "cells": [
  {
   "cell_type": "code",
   "execution_count": 1,
   "metadata": {},
   "outputs": [
    {
     "name": "stdout",
     "output_type": "stream",
     "text": [
      "0 W: [0.112597] b: [0.41876423] loss: 0.015733916\n",
      "40 W: [0.09703381] b: [0.30166432] loss: 7.358119e-07\n",
      "80 W: [0.09978595] b: [0.30012012] loss: 3.8317753e-09\n",
      "120 W: [0.09998456] b: [0.30000868] loss: 1.995491e-11\n",
      "160 W: [0.09999889] b: [0.30000064] loss: 1.0265566e-13\n",
      "200 W: [0.09999991] b: [0.30000007] loss: 1.0658141e-15\n"
     ]
    }
   ],
   "source": [
    "import tensorflow as tf\n",
    "import numpy as np\n",
    "\n",
    "# 準備資料 正確模型的參數 y_data = 0.1 * x_data + 0.3\n",
    "x_data = np.random.rand(100).astype(np.float32)\n",
    "y_data = x_data * 0.1 + 0.3\n",
    "\n",
    "# W 指的是係數，斜率介於 -1 至 1 之間\n",
    "# b 指的是截距，從 0 開始逼近任意數字\n",
    "# y 指的是預測值\n",
    "W = tf.Variable(tf.random_uniform([1], -1.0, 1.0))\n",
    "b = tf.Variable(tf.zeros([1]))\n",
    "y = W * x_data + b\n",
    "\n",
    "# 我們的目標是要讓 loss（MSE）最小化\n",
    "loss = tf.reduce_mean(tf.square(y - y_data))\n",
    "optimizer = tf.train.GradientDescentOptimizer(learning_rate = 0.5)\n",
    "train = optimizer.minimize(loss)\n",
    "\n",
    "# 初始化\n",
    "init = tf.global_variables_initializer()\n",
    "\n",
    "# 將神經網絡圖畫出來\n",
    "sess = tf.Session()\n",
    "sess.run(init)\n",
    "\n",
    "# 將迴歸線的係數與截距模擬出來\n",
    "# 每跑 40 次把當時的係數與截距印出來\n",
    "for step in range(201):\n",
    "    sess.run(train)\n",
    "    if step % 40 == 0:\n",
    "        print(step, \"W:\", sess.run(W), \"b:\", sess.run(b), \"loss:\",sess.run(loss))\n",
    "        \n",
    "# 關閉 Session\n",
    "sess.close()"
   ]
  },
  {
   "cell_type": "code",
   "execution_count": null,
   "metadata": {},
   "outputs": [],
   "source": []
  }
 ],
 "metadata": {
  "kernelspec": {
   "display_name": "Python 3",
   "language": "python",
   "name": "python3"
  },
  "language_info": {
   "codemirror_mode": {
    "name": "ipython",
    "version": 3
   },
   "file_extension": ".py",
   "mimetype": "text/x-python",
   "name": "python",
   "nbconvert_exporter": "python",
   "pygments_lexer": "ipython3",
   "version": "3.5.2"
  }
 },
 "nbformat": 4,
 "nbformat_minor": 2
}
