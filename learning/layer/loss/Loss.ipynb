{
 "cells": [
  {
   "cell_type": "code",
   "execution_count": 49,
   "metadata": {},
   "outputs": [
    {
     "name": "stdout",
     "output_type": "stream",
     "text": [
      "Target array : [10 20 30]\n",
      "\n",
      "prediction_1 array : [12 19 29]\n",
      "pred mse : 2.0\n",
      "pred mae : 1.3333333333333333\n",
      "\n",
      "prediction_2 array : [18 16 26]\n",
      "pred mse : 32.0\n",
      "pred mae : 5.333333333333333\n"
     ]
    }
   ],
   "source": [
    "#MSE MAE 介紹\n",
    "import numpy as np\n",
    "y = np.array([10,20,30]) #實際值\n",
    "print(\"Target array :\", y)\n",
    "print(\"\")\n",
    "y_pred1 = np.array([12,19,29]) #預測 1\n",
    "mse = np.mean((y - y_pred1)**2)\n",
    "mae = np.mean(abs(y - y_pred1))\n",
    "print(\"prediction_1 array :\", y_pred1)\n",
    "print(\"pred mse :\", mse)\n",
    "print(\"pred mae :\", mae)\n",
    "print(\"\")\n",
    "y_pred2 = np.array([18,16,26]) #預測 2\n",
    "mse = np.mean((y - y_pred2)**2)\n",
    "mae = np.mean(abs(y - y_pred2))\n",
    "print(\"prediction_2 array :\", y_pred2)\n",
    "print(\"pred mse :\", mse)\n",
    "print(\"pred mae :\", mae)"
   ]
  },
  {
   "cell_type": "code",
   "execution_count": 48,
   "metadata": {},
   "outputs": [
    {
     "name": "stdout",
     "output_type": "stream",
     "text": [
      "p( 0.8 ) entropy = 0.7219280948873623\n"
     ]
    },
    {
     "data": {
      "image/png": "[encoded data removed]",
      "text/plain": [
       "<Figure size 432x288 with 1 Axes>"
      ]
     },
     "metadata": {
      "needs_background": "light"
     },
     "output_type": "display_data"
    }
   ],
   "source": [
    "#entropy 介紹\n",
    "import math\n",
    "import matplotlib.pyplot as plt\n",
    "\n",
    "def entropy(prediction):\n",
    "    p = 1 - prediction\n",
    "    N = -p*math.log(p,2) + -prediction*math.log(prediction,2)\n",
    "    return N\n",
    "\n",
    "pred = 0.8 \n",
    "H = entropy(pred)\n",
    "print(\"p(\",pred,\")\", \"entropy =\", H)\n",
    "\n",
    "# plot entropy 分布\n",
    "x = np.linspace(0.1,0.9)\n",
    "fig = plt.figure()\n",
    "ax = fig.add_subplot(221)\n",
    "y_relu = np.array([0*item  if item<0 else entropy(item) for item in x ]) \n",
    "ax.plot(x,y_relu)\n",
    "ax.grid()\n",
    "ax.set_title('Entropy')\n",
    "plt.tight_layout()"
   ]
  },
  {
   "cell_type": "code",
   "execution_count": null,
   "metadata": {},
   "outputs": [],
   "source": []
  }
 ],
 "metadata": {
  "kernelspec": {
   "display_name": "Python 3",
   "language": "python",
   "name": "python3"
  },
  "language_info": {
   "codemirror_mode": {
    "name": "ipython",
    "version": 3
   },
   "file_extension": ".py",
   "mimetype": "text/x-python",
   "name": "python",
   "nbconvert_exporter": "python",
   "pygments_lexer": "ipython3",
   "version": "3.5.2"
  }
 },
 "nbformat": 4,
 "nbformat_minor": 2
}
